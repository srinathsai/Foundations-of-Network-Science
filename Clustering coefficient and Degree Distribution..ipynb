{
  "nbformat": 4,
  "nbformat_minor": 0,
  "metadata": {
    "colab": {
      "provenance": []
    },
    "kernelspec": {
      "name": "python3",
      "display_name": "Python 3"
    },
    "language_info": {
      "name": "python"
    }
  },
  "cells": [
    {
      "cell_type": "code",
      "execution_count": 1,
      "metadata": {
        "id": "qsrn5ANbEKqm"
      },
      "outputs": [],
      "source": [
        "from networkx.generators import directed\n",
        "import networkx as nx\n",
        "g=nx.read_edgelist('/content/soc-Epinions1.txt.gz',create_using=nx.DiGraph()) #as given graph is directed reading it as directed."
      ]
    },
    {
      "cell_type": "code",
      "source": [
        "total_nodes=g.number_of_nodes()\n",
        "print(total_nodes)# total number of nodes"
      ],
      "metadata": {
        "colab": {
          "base_uri": "https://localhost:8080/"
        },
        "id": "FSYWI2l3GQdo",
        "outputId": "b719c0a4-3db2-4df0-838b-8645f6a25bb4"
      },
      "execution_count": 2,
      "outputs": [
        {
          "output_type": "stream",
          "name": "stdout",
          "text": [
            "75879\n"
          ]
        }
      ]
    },
    {
      "cell_type": "code",
      "source": [
        "each_node_degree=[]\n",
        "for node,val in g.degree(): #taking each node degree values to list.\n",
        "  each_node_degree.append(val)"
      ],
      "metadata": {
        "id": "ktfy9ycLGlR1"
      },
      "execution_count": 3,
      "outputs": []
    },
    {
      "cell_type": "code",
      "source": [
        "min_degree= float('inf')\n",
        "max_degree= float('-inf') \n",
        "for x in each_node_degree: \n",
        "  min_degree= min(min_degree,x)\n",
        "  max_degree= max(max_degree,x)            #from the list of degree values of each nodes taking min degree and max degree \n",
        "degree_frequency_cache={}\n",
        "for x in each_node_degree:\n",
        "  if x not in degree_frequency_cache:    #making frequency of degreee from list of each node degree by using hashmap.\n",
        "    degree_frequency_cache[x]=0\n",
        "  degree_frequency_cache[x]+=1\n",
        "\n"
      ],
      "metadata": {
        "id": "tfFxeHt8IxHq"
      },
      "execution_count": 4,
      "outputs": []
    },
    {
      "cell_type": "code",
      "source": [
        "degrees=[] #x-axis\n",
        "frequencies=[]\n",
        "for x in degree_frequency_cache:                      \n",
        "  degrees.append(x)                                 #from hashmap keys are degrees and respective values are frequencies . These 2 are taken in lists for futhure computation.\n",
        "  frequencies.append(degree_frequency_cache[x])\n",
        "probabilities=[] #y-axis\n",
        "for y in frequencies:               \n",
        "  probability = y/total_nodes             #from frequencies list calculating probability(k) for each and storing in lists.\n",
        "  probabilities.append(probability)"
      ],
      "metadata": {
        "id": "dKKWOvwzOk00"
      },
      "execution_count": 5,
      "outputs": []
    },
    {
      "cell_type": "code",
      "source": [
        "from collections import Counter\n",
        "from operator import itemgetter\n",
        "import matplotlib.pyplot as plt                                                                             \n",
        "plt.figure(1)   \n",
        "                                                                                                                                                                                                                                                      \n",
        "# prep axes                                                                                                                      \n",
        "plt.xlabel('degree')                                                                                                             \n",
        "plt.xscale('log')              #degrees values in list are taken as x-axis with log scaled.                                                                                                   \n",
        "plt.xlim(1, max_degree)  \n",
        "                                                                                                           \n",
        "plt.ylabel('frequency')                                                                                                          \n",
        "plt.yscale('log')               #Frequencies values from list are taken as y-axis with log scaled.                                                                                                   \n",
        "plt.ylim(1, max(frequencies))\n",
        "\n",
        "plt.title('frequency in log scale vs degree in log scale')\n",
        "                                                                                                                                                                                                                                                        \n",
        "plt.scatter(degrees, frequencies, marker='.')                                                                                                    \n",
        "plt.show()"
      ],
      "metadata": {
        "colab": {
          "base_uri": "https://localhost:8080/",
          "height": 299
        },
        "id": "KoMrjJkucXrY",
        "outputId": "b1b2aaa5-1228-4ea9-ea35-7046ccf74732"
      },
      "execution_count": 6,
      "outputs": [
        {
          "output_type": "display_data",
          "data": {
            "text/plain": [
              "<Figure size 432x288 with 1 Axes>"
            ],
            "image/png": "[encoded data removed]"
          },
          "metadata": {
            "needs_background": "light"
          }
        }
      ]
    },
    {
      "cell_type": "code",
      "source": [
        "plt.bar(degrees, probabilities)                                                \n",
        "plt.ylabel(\"Probability(k)\")\n",
        "plt.title(\"degree distribution graph between degrees and probability(k)\")\n",
        "plt.xlim(1,max_degree)\n",
        "plt.ylim(0,0.001)   #bar plot between degree distribution vs probability(k) is plotted with limiting x and y-axis for graph visibility.\n",
        "plt.xlabel(\"degrees\")\n",
        "plt.show() "
      ],
      "metadata": {
        "colab": {
          "base_uri": "https://localhost:8080/",
          "height": 295
        },
        "id": "otuF9iXodzfX",
        "outputId": "16edf489-47ab-4c93-b0b1-30f2e994cdf8"
      },
      "execution_count": 14,
      "outputs": [
        {
          "output_type": "display_data",
          "data": {
            "text/plain": [
              "<Figure size 432x288 with 1 Axes>"
            ],
            "image/png": "[encoded data removed]"
          },
          "metadata": {
            "needs_background": "light"
          }
        }
      ]
    },
    {
      "cell_type": "markdown",
      "source": [
        "#clustering coefficient of this graph"
      ],
      "metadata": {
        "id": "7jIqcS_dfiKT"
      }
    },
    {
      "cell_type": "code",
      "source": [
        "clustering_coeficient_cache=nx.clustering(g) #returns hashmap with nodes as key and their clustering coeeficients as values."
      ],
      "metadata": {
        "id": "L396Jqc9futK"
      },
      "execution_count": 8,
      "outputs": []
    },
    {
      "cell_type": "code",
      "source": [
        "total_clustering_coefficients=0\n",
        "for x in clustering_coeficient_cache:    #from the hashmap finding average clustering coefficient of a network in iteration of it.\n",
        "  total_clustering_coefficients+=clustering_coeficient_cache[x]\n",
        "average_coefficient=total_clustering_coefficients/total_nodes"
      ],
      "metadata": {
        "id": "7s6EmMF4h7EW"
      },
      "execution_count": 9,
      "outputs": []
    },
    {
      "cell_type": "code",
      "source": [
        "print(average_coefficient)\n",
        "#print(nx.average_clustering(g))"
      ],
      "metadata": {
        "colab": {
          "base_uri": "https://localhost:8080/"
        },
        "id": "Z_e77x8Cigcp",
        "outputId": "04342845-7637-4d88-ca01-b788da95d952"
      },
      "execution_count": 11,
      "outputs": [
        {
          "output_type": "stream",
          "name": "stdout",
          "text": [
            "0.11017387558244757\n"
          ]
        }
      ]
    },
    {
      "cell_type": "markdown",
      "source": [
        "Importance of clustering coefficient :- It tells us how much likely nodes are connected together . For this graph we got value to be 0.1101... . The value cannot be said guranteely if it is good or not. This depends on the situation in which requirement of connectivity is necessary or not. If in a situation we need more connectivity then this value is slightly less if not this value may be okay."
      ],
      "metadata": {
        "id": "MgOvr-oYlZZf"
      }
    },
    {
      "cell_type": "markdown",
      "source": [
        "# exercise -d"
      ],
      "metadata": {
        "id": "FYLM8V5uorBO"
      }
    },
    {
      "cell_type": "markdown",
      "source": [
        "Real applications of centrality measures :-\n",
        "1) In politics , we need centrality measures for data scientists to identify who are the most influential leaders in a network of politicians .\n",
        "2) Doctors need to identify a central cell which is the reason for the fast spreader of any virus, disease or cancer . And this can be solved by using centrality measure over infected cell.\n",
        "3) Cyber security officers or attackers need centrality measures to identify a central node which is very near to major of the nodes to which attack or saving must be done to prevent damage to neighbours."
      ],
      "metadata": {
        "id": "2uIAN0Idowe3"
      }
    }
  ]
}