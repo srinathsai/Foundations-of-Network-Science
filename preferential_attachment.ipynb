{
  "nbformat": 4,
  "nbformat_minor": 0,
  "metadata": {
    "colab": {
      "provenance": []
    },
    "kernelspec": {
      "name": "python3",
      "display_name": "Python 3"
    },
    "language_info": {
      "name": "python"
    }
  },
  "cells": [
    {
      "cell_type": "code",
      "source": [
        "import random\n",
        "import networkx as nx  #necessary packages are imported"
      ],
      "metadata": {
        "id": "wGS4F-nunRuI"
      },
      "execution_count": 1,
      "outputs": []
    },
    {
      "cell_type": "code",
      "source": [
        "import sys\n",
        "print(sys.getrecursionlimit()) # for knowing current reccursion limit"
      ],
      "metadata": {
        "colab": {
          "base_uri": "https://localhost:8080/"
        },
        "id": "THFfKZUbNTX3",
        "outputId": "3a07ed74-6a9b-4f0c-a477-c8fa407db910"
      },
      "execution_count": 2,
      "outputs": [
        {
          "output_type": "stream",
          "name": "stdout",
          "text": [
            "1000\n"
          ]
        }
      ]
    },
    {
      "cell_type": "code",
      "source": [
        "sys.setrecursionlimit(15000) #need to increase reccursion limit if you get maximum reccursion depth exceeded."
      ],
      "metadata": {
        "id": "WayxqXD4NVA4"
      },
      "execution_count": 3,
      "outputs": []
    },
    {
      "cell_type": "code",
      "source": [
        "\"\"\"def helper(G,i,total_nodes,no_of_edges_to_be_linked):  \n",
        "  if i==total_nodes:\n",
        "    return G \n",
        "  total_degrees=0\n",
        "  for node,val in G.degree():                                                          # AT FIRST TRIED TO IMPLEMENT MY RECCURSION LOGIC OF PREFERENTIAL ATTACHMENT BY PASSING GRAPH OBJECT AND CAME TO KNOW BY PASSING LIKE THAT \n",
        "                                                                                       # WE WILL GET NONE TYPE OBJECTS ARE NOT ITERABLE.\n",
        "    total_degrees += val\n",
        "  probabilities_of_all_nodes=[]\n",
        "  for node,val in G.degree():\n",
        "    probabilities_of_all_nodes.append(val/total_degrees)\n",
        "  allnodes=list(G.nodes())\n",
        "  weights = probabilities_of_all_nodes\n",
        "  chance_of_next_nodes = random.choices(allnodes,weights,k=no_of_edges_to_be_linked)\n",
        "\n",
        "  for node in chance_of_next_nodes:\n",
        "    G.add_edge(i,node)\n",
        "\n",
        "  return helper(G,i+1,total_nodes,no_of_edges_to_be_linked)\"\"\"\n"
      ],
      "metadata": {
        "colab": {
          "base_uri": "https://localhost:8080/",
          "height": 87
        },
        "id": "YWSwAK4_z6O6",
        "outputId": "8d8510bf-e723-45d9-8c6b-4677aad4a24f"
      },
      "execution_count": 4,
      "outputs": [
        {
          "output_type": "execute_result",
          "data": {
            "text/plain": [
              "'def helper(G,i,total_nodes,no_of_edges_to_be_linked):  \\n  if i==total_nodes:\\n    return G \\n  total_degrees=0\\n  for node,val in G.degree():                                                          # AT FIRST TRIED TO IMPLEMENT MY RECCURSION LOGIC OF PREFERENTIAL ATTACHMENT BY PASSING GRAPH OBJECT AND CAME TO KNOW BY PASSING LIKE THAT \\n                                                                                       # WE WILL GET NONE TYPE OBJECTS ARE NOT ITERABLE.\\n    total_degrees += val\\n  probabilities_of_all_nodes=[]\\n  for node,val in G.degree():\\n    probabilities_of_all_nodes.append(val/total_degrees)\\n  allnodes=list(G.nodes())\\n  weights = probabilities_of_all_nodes\\n  chance_of_next_nodes = random.choices(allnodes,weights,k=no_of_edges_to_be_linked)\\n\\n  for node in chance_of_next_nodes:\\n    G.add_edge(i,node)\\n\\n  return helper(G,i+1,total_nodes,no_of_edges_to_be_linked)'"
            ],
            "application/vnd.google.colaboratory.intrinsic+json": {
              "type": "string"
            }
          },
          "metadata": {},
          "execution_count": 4
        }
      ]
    },
    {
      "cell_type": "code",
      "source": [
        "i=2 #global variable taking as 2 since at first we will construct graph with 2 nodes and this variable also acts as stopping of reccursion.\n",
        "def preferential_attachment_builder(N,m,G=None):\n",
        "  if G is None:\n",
        "    G = nx.Graph()\n",
        "    G.add_edge(0, 1)  #initially graph is constructed with 2 nodes and one edge.\n",
        "   \n",
        "  global i   \n",
        "  if i==N: #that global variable if it is equal to total nodes sent by us in down acts like a base condition and returns until built graph.\n",
        "    return G\n",
        "\n",
        "  total_degrees=0 \n",
        "  for node,val in G.degree(): # iterating for every nodes degrees and calculating total degree value of graph.\n",
        "    total_degrees += val\n",
        "  probabilities_of_all_nodes=[]\n",
        "  for node,val in G.degree():\n",
        "    probabilities_of_all_nodes.append(val/total_degrees) # for every node calculating probabilities of distribution which is each node degree / total degree of the graph.\n",
        "  allnodes=list(G.nodes()) # collecting all nodes in a list\n",
        "  weights = probabilities_of_all_nodes \n",
        "  chance_of_next_nodes = random.choices(allnodes,weights,k=m) #used random choices because this function will give majority times k sized list with more weight (here weights are taken as probabilities because according to algorithm\n",
        "  # new node have more tendency to attach to most degree node  and from all nodes the function will give you k sized nodes with heavy tendancy of attaching)\n",
        "  for node in chance_of_next_nodes:\n",
        "    G.add_edge(i,node)  # adding edges to current node with obtained high probabilities of degrees of nodes.\n",
        "  i+=1\n",
        "\n",
        "  return preferential_attachment_builder(N,m,G) #calling the reccursion function untill i reaches to N.\n"
      ],
      "metadata": {
        "id": "K9j6kyGN3GfO"
      },
      "execution_count": 5,
      "outputs": []
    },
    {
      "cell_type": "code",
      "source": [
        "G=preferential_attachment_builder(5,2) #calling the function with n nodes and m edges\n"
      ],
      "metadata": {
        "id": "sHyjqxfi4NG-"
      },
      "execution_count": 6,
      "outputs": []
    },
    {
      "cell_type": "code",
      "source": [
        "nx.draw(G)"
      ],
      "metadata": {
        "colab": {
          "base_uri": "https://localhost:8080/",
          "height": 319
        },
        "id": "3rKl3A7d-y7-",
        "outputId": "55fb54a5-3b28-4268-aa51-ac1520083522"
      },
      "execution_count": 7,
      "outputs": [
        {
          "output_type": "display_data",
          "data": {
            "text/plain": [
              "<Figure size 432x288 with 1 Axes>"
            ],
            "image/png": "[encoded data removed]"
          },
          "metadata": {}
        }
      ]
    },
    {
      "cell_type": "code",
      "source": [
        "#verification "
      ],
      "metadata": {
        "id": "ERDe8HOyIfoE"
      },
      "execution_count": 8,
      "outputs": []
    },
    {
      "cell_type": "code",
      "source": [
        "G1= nx.barabasi_albert_graph(5,2)\n",
        "nx.draw(G1) # the above is a inbuilt function used here for the verification."
      ],
      "metadata": {
        "colab": {
          "base_uri": "https://localhost:8080/",
          "height": 319
        },
        "id": "zMdVa1zEIiR_",
        "outputId": "bbb16821-09e4-4455-c697-97ee2b95f3c3"
      },
      "execution_count": 9,
      "outputs": [
        {
          "output_type": "display_data",
          "data": {
            "text/plain": [
              "<Figure size 432x288 with 1 Axes>"
            ],
            "image/png": "[encoded data removed]"
          },
          "metadata": {}
        }
      ]
    },
    {
      "cell_type": "markdown",
      "source": [
        "KEY POINTS TO BE NOTED HERE :-\n",
        "  1) Here for the verification I have used inbuilt function which builds preferential attachment ,**You may observe graphs changing and may not get my implementation graph and inbuilt graph same. This is due to randomness of the algorithm and all are right.**\n",
        "  2) If you want multiple times of output of execution you need to run from the cell where I have written reccursion logic to nx.draw(). You should not run directly nx.draw() cell.\n",
        "  3) Since I used reccursion logic for larger values you may observe reccursion depth exceeded for that to handle you need to increase recurssion limit in the above."
      ],
      "metadata": {
        "id": "QtLDb-LWOwvZ"
      }
    }
  ]
}