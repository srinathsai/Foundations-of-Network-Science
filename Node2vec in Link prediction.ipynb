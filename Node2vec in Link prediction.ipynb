{
  "nbformat": 4,
  "nbformat_minor": 0,
  "metadata": {
    "colab": {
      "provenance": []
    },
    "kernelspec": {
      "name": "python3",
      "display_name": "Python 3"
    },
    "language_info": {
      "name": "python"
    }
  },
  "cells": [
    {
      "cell_type": "code",
      "source": [
        "import warnings\n",
        "warnings.filterwarnings('ignore')\n",
        "import argparse\n",
        "import numpy as np\n",
        "import networkx as nx\n",
        "#import node2vec\n",
        "from gensim.models import Word2Vec\n",
        "import random"
      ],
      "metadata": {
        "id": "6r-xsAjMzWEh"
      },
      "execution_count": 1,
      "outputs": []
    },
    {
      "cell_type": "code",
      "source": [
        "def parse_args():\n",
        "    '''\n",
        "    Parses the node2vec arguments.\n",
        "    '''\n",
        "    # load\n",
        "    parser = argparse.ArgumentParser(description=\"Run node2vec.\")\n",
        "    # input \n",
        "    parser.add_argument('--input', nargs='?', default='../content/graph/karate.edgelist',\n",
        "                        help='Input graph path')\n",
        "    # out\n",
        "    parser.add_argument('--output', nargs='?', default='../content/emb/karate.emb',\n",
        "                        help='Embeddings path')\n",
        "    # dimension\n",
        "    parser.add_argument('--dimensions', type=int, default=128,\n",
        "                        help='Number of dimensions. Default is 128.')\n",
        "    # length of walks\n",
        "    parser.add_argument('--walk-length', type=int, default=80,\n",
        "                        help='Length of walk per source. Default is 80.')\n",
        "    # num of walks\n",
        "    parser.add_argument('--num-walks', type=int, default=10,\n",
        "                        help='Number of walks per source. Default is 10.')\n",
        "    # windowsize\n",
        "    parser.add_argument('--window-size', type=int, default=10,\n",
        "                        help='Context size for optimization. Default is 10.')\n",
        "    # epoch\n",
        "    parser.add_argument('--iter', default=1, type=int,\n",
        "                        help='Number of epochs in SGD')\n",
        "    # parallel workers\n",
        "    parser.add_argument('--workers', type=int, default=8,\n",
        "                        help='Number of parallel workers. Default is 8.')\n",
        "    # p\n",
        "    parser.add_argument('--p', type=float, default=1,\n",
        "                        help='Return hyperparameter. Default is 1.')\n",
        "    # q\n",
        "    parser.add_argument('--q', type=float, default=1,\n",
        "                        help='Inout hyperparameter. Default is 1.')\n",
        "    # weighted\n",
        "    parser.add_argument('--weighted', dest='weighted', action='store_true',\n",
        "                        help='Boolean specifying (un)weighted. Default is unweighted.')\n",
        "    parser.add_argument('--unweighted', dest='unweighted', action='store_false')\n",
        "    parser.set_defaults(weighted=False)\n",
        "    # directed\n",
        "    parser.add_argument('--directed', dest='directed', action='store_true',\n",
        "                        help='Graph is (un)directed. Default is undirected.')\n",
        "    parser.add_argument('--undirected', dest='undirected', action='store_false')\n",
        "    parser.set_defaults(directed=False)\n",
        "    \n",
        "    return parser.parse_args(args=[])"
      ],
      "metadata": {
        "id": "OdqIP4NkzsJj"
      },
      "execution_count": 2,
      "outputs": []
    },
    {
      "cell_type": "code",
      "source": [
        "def read_graph():\n",
        "    '''\n",
        "    Reads the input network in networkx.\n",
        "    '''\n",
        "    # weighted\n",
        "    if args.weighted:\n",
        "        G = nx.read_edgelist(args.input, nodetype=int, data=(('weight', float),), create_using=nx.DiGraph())\n",
        "    # unweighted\n",
        "    else:\n",
        "        G = nx.read_edgelist(args.input, nodetype=int, create_using=nx.DiGraph())\n",
        "        for edge in G.edges():\n",
        "            G[edge[0]][edge[1]]['weight'] = 1\n",
        "    # to undirected\n",
        "    if not args.directed:\n",
        "        G = G.to_undirected()\n",
        "\n",
        "    return G"
      ],
      "metadata": {
        "id": "AuMxmCYd4iRi"
      },
      "execution_count": 3,
      "outputs": []
    },
    {
      "cell_type": "code",
      "source": [
        "# set parameters according to parser\n",
        "args = parse_args()\n",
        "# read graph\n",
        "nx_G = read_graph()\n",
        "print (len(nx_G))"
      ],
      "metadata": {
        "colab": {
          "base_uri": "https://localhost:8080/"
        },
        "id": "FXCEAjh85V1e",
        "outputId": "738da926-6ae0-45e7-e1e7-2a2f5de8f124"
      },
      "execution_count": 4,
      "outputs": [
        {
          "output_type": "stream",
          "name": "stdout",
          "text": [
            "34\n"
          ]
        }
      ]
    },
    {
      "cell_type": "code",
      "source": [
        "args"
      ],
      "metadata": {
        "colab": {
          "base_uri": "https://localhost:8080/"
        },
        "id": "d9p--nfg8a8j",
        "outputId": "69c78627-18d5-4041-9adf-4f9e0998756e"
      },
      "execution_count": 5,
      "outputs": [
        {
          "output_type": "execute_result",
          "data": {
            "text/plain": [
              "Namespace(input='../content/graph/karate.edgelist', output='../content/emb/karate.emb', dimensions=128, walk_length=80, num_walks=10, window_size=10, iter=1, workers=8, p=1, q=1, weighted=False, unweighted=True, directed=False, undirected=True)"
            ]
          },
          "metadata": {},
          "execution_count": 5
        }
      ]
    },
    {
      "cell_type": "code",
      "source": [
        "import matplotlib.pyplot as plt\n",
        "nx.draw(nx_G, with_labels=True)\n",
        "plt.show()"
      ],
      "metadata": {
        "colab": {
          "base_uri": "https://localhost:8080/",
          "height": 319
        },
        "id": "FcHAOzbW8h9X",
        "outputId": "6d7da57e-b447-4fc4-b644-e948429c4508"
      },
      "execution_count": 6,
      "outputs": [
        {
          "output_type": "display_data",
          "data": {
            "text/plain": [
              "<Figure size 432x288 with 1 Axes>"
            ],
            "image/png": "[encoded data removed]"
          },
          "metadata": {}
        }
      ]
    },
    {
      "cell_type": "code",
      "source": [
        "def alias_setup(probs):\n",
        "    '''\n",
        "    Compute utility lists for non-uniform sampling from discrete distributions.\n",
        "    Refer to https://hips.seas.harvard.edu/blog/2013/03/03/the-alias-method-efficient-sampling-with-many-discrete-outcomes/\n",
        "    for details\n",
        "    '''\n",
        "    K = len(probs)\n",
        "    # q corrsespond to Prob\n",
        "    q = np.zeros(K)\n",
        "    # J Alias\n",
        "    J = np.zeros(K, dtype=np.int)\n",
        "\n",
        "    smaller = []\n",
        "    larger = []\n",
        "    \n",
        "    # seperate prob into 2 groups, one for larger than one and one for smaller than 1\n",
        "    for kk, prob in enumerate(probs):\n",
        "        q[kk] = K*prob\n",
        "        if q[kk] < 1.0:\n",
        "            smaller.append(kk)\n",
        "        else:\n",
        "            larger.append(kk)\n",
        "    \n",
        "    # greed algo to setup\n",
        "    # pseudo code step 3\n",
        "    while len(smaller) > 0 and len(larger) > 0:\n",
        "        small = smaller.pop()\n",
        "        large = larger.pop()\n",
        "\n",
        "        J[small] = large\n",
        "        # update prob\n",
        "        q[large] = q[large] + q[small] - 1.0\n",
        "        if q[large] < 1.0:\n",
        "            smaller.append(large)\n",
        "        else:\n",
        "            larger.append(large)\n",
        "\n",
        "    return J, q"
      ],
      "metadata": {
        "id": "7rVLhXeO_0Ei"
      },
      "execution_count": 7,
      "outputs": []
    },
    {
      "cell_type": "code",
      "source": [
        "def alias_draw(J, q):\n",
        "    '''\n",
        "    Draw sample from a non-uniform discrete distribution using alias sampling.\n",
        "    '''\n",
        "    K = len(J)\n",
        "\n",
        "    kk = int(np.floor(np.random.rand()*K))\n",
        "    # select self\n",
        "    if np.random.rand() < q[kk]:\n",
        "        return kk\n",
        "    # select alias\n",
        "    else:\n",
        "        return J[kk]"
      ],
      "metadata": {
        "id": "8folLjnN_8gj"
      },
      "execution_count": 8,
      "outputs": []
    },
    {
      "cell_type": "code",
      "source": [
        "class Graph():\n",
        "    # initialize\n",
        "    def __init__(self, nx_G, is_directed, p, q):\n",
        "        self.G = nx_G\n",
        "        self.is_directed = is_directed\n",
        "        self.p = p\n",
        "        self.q = q\n",
        "    \n",
        "    \n",
        "    def node2vec_walk(self, walk_length, start_node):\n",
        "        '''\n",
        "        Simulate a random walk starting from start node.\n",
        "        '''\n",
        "        G = self.G\n",
        "        # O(1) alias sampling\n",
        "        alias_nodes = self.alias_nodes\n",
        "        alias_edges = self.alias_edges\n",
        "\n",
        "        walk = [start_node]\n",
        "\n",
        "        while len(walk) < walk_length:\n",
        "            cur = walk[-1]\n",
        "            # align with alias table\n",
        "            cur_nbrs = sorted(G.neighbors(cur))\n",
        "            if len(cur_nbrs) > 0:\n",
        "                # start scenario\n",
        "                if len(walk) == 1:\n",
        "                    walk.append(cur_nbrs[alias_draw(alias_nodes[cur][0], alias_nodes[cur][1])])\n",
        "                # common scenario\n",
        "                else:\n",
        "                    # prev is node t in paper\n",
        "                    prev = walk[-2]\n",
        "                    next = cur_nbrs[alias_draw(alias_edges[(prev, cur)][0],\n",
        "                        alias_edges[(prev, cur)][1])]\n",
        "                    walk.append(next)\n",
        "            else:\n",
        "                break\n",
        "\n",
        "        return walk\n",
        "    def simulate_walks(self, num_walks, walk_length):\n",
        "        '''\n",
        "        Repeatedly simulate random walks from each node.\n",
        "        '''\n",
        "        G = self.G\n",
        "        walks = []\n",
        "        nodes = list(G.nodes())\n",
        "        print ('Walk iteration:')\n",
        "        for walk_iter in range(num_walks):\n",
        "            print (str(walk_iter+1), '/', str(num_walks))\n",
        "            # shuffle\n",
        "            random.shuffle(nodes)\n",
        "            for node in nodes:\n",
        "                # node2vec_walk is a biased random walk\n",
        "                walks.append(self.node2vec_walk(walk_length=walk_length, start_node=node))\n",
        "\n",
        "        return walks\n",
        "\n",
        "    def get_alias_edge(self, src, dst):\n",
        "        '''\n",
        "        Get the alias edge setup lists for a given edge.\n",
        "        '''\n",
        "        G = self.G\n",
        "        p = self.p\n",
        "        q = self.q\n",
        "\n",
        "        unnormalized_probs = []\n",
        "        # section 3.2.2\n",
        "        for dst_nbr in sorted(G.neighbors(dst)):\n",
        "            if dst_nbr == src:\n",
        "                unnormalized_probs.append(G[dst][dst_nbr]['weight']/p)\n",
        "            elif G.has_edge(dst_nbr, src):\n",
        "                unnormalized_probs.append(G[dst][dst_nbr]['weight'])\n",
        "            else:\n",
        "                unnormalized_probs.append(G[dst][dst_nbr]['weight']/q)\n",
        "        \n",
        "        # normarlize \n",
        "        norm_const = sum(unnormalized_probs)\n",
        "        normalized_probs =  [float(u_prob)/norm_const for u_prob in unnormalized_probs]\n",
        "\n",
        "        return alias_setup(normalized_probs)\n",
        "\n",
        "    def preprocess_transition_probs(self):\n",
        "        '''\n",
        "        Preprocessing of transition probabilities for guiding the random walks.\n",
        "        '''\n",
        "        G = self.G\n",
        "        is_directed = self.is_directed\n",
        "\n",
        "        alias_nodes = {}\n",
        "        # node alias sampling and normalize\n",
        "        # node sampling is used for the start scienario (have no prevs)\n",
        "        for node in G.nodes():\n",
        "            unnormalized_probs = [G[node][nbr]['weight'] for nbr in sorted(G.neighbors(node))]\n",
        "            norm_const = sum(unnormalized_probs)\n",
        "            normalized_probs =  [float(u_prob)/norm_const for u_prob in unnormalized_probs]\n",
        "            alias_nodes[node] = alias_setup(normalized_probs)\n",
        "            if node == 2:\n",
        "                print (unnormalized_probs)\n",
        "                print (norm_const)\n",
        "                print (normalized_probs)\n",
        "                print (alias_nodes[node])\n",
        "\n",
        "        alias_edges = {}\n",
        "        triads = {}\n",
        "        \n",
        "        # edge alias sampling and normalize\n",
        "        if is_directed:\n",
        "            for edge in G.edges():\n",
        "                alias_edges[edge] = self.get_alias_edge(edge[0], edge[1])\n",
        "        else:\n",
        "            for edge in G.edges():\n",
        "                alias_edges[edge] = self.get_alias_edge(edge[0], edge[1])\n",
        "                alias_edges[(edge[1], edge[0])] = self.get_alias_edge(edge[1], edge[0])\n",
        "        \n",
        "        print ('edges alias')\n",
        "        print (alias_edges[(2, 3)])\n",
        "        print (alias_edges[(3, 2)])\n",
        "        \n",
        "        self.alias_nodes = alias_nodes\n",
        "        self.alias_edges = alias_edges\n",
        "\n",
        "        return"
      ],
      "metadata": {
        "id": "KXaxVmXq87wf"
      },
      "execution_count": 9,
      "outputs": []
    },
    {
      "cell_type": "code",
      "source": [
        "G = Graph(nx_G, args.directed, args.p, args.q)\n",
        "\n",
        "# generate alias table\n",
        "G.preprocess_transition_probs()\n",
        "#print ('nodes and edges alias sampling')"
      ],
      "metadata": {
        "colab": {
          "base_uri": "https://localhost:8080/"
        },
        "id": "Yt5QMnHQ-9WQ",
        "outputId": "aef8da3f-42a4-40d0-dfb0-8f8414877cdb"
      },
      "execution_count": 10,
      "outputs": [
        {
          "output_type": "stream",
          "name": "stdout",
          "text": [
            "[1, 1, 1, 1, 1, 1, 1, 1, 1]\n",
            "9\n",
            "[0.1111111111111111, 0.1111111111111111, 0.1111111111111111, 0.1111111111111111, 0.1111111111111111, 0.1111111111111111, 0.1111111111111111, 0.1111111111111111, 0.1111111111111111]\n",
            "(array([0, 0, 0, 0, 0, 0, 0, 0, 0]), array([1., 1., 1., 1., 1., 1., 1., 1., 1.]))\n",
            "edges alias\n",
            "(array([0, 0, 0, 0, 0, 0, 0, 0, 0, 0]), array([1., 1., 1., 1., 1., 1., 1., 1., 1., 1.]))\n",
            "(array([0, 0, 0, 0, 0, 0, 0, 0, 0]), array([1., 1., 1., 1., 1., 1., 1., 1., 1.]))\n"
          ]
        }
      ]
    },
    {
      "cell_type": "code",
      "source": [
        "def simulate_walks(self, num_walks, walk_length):\n",
        "    '''\n",
        "    Repeatedly simulate random walks from each node.\n",
        "    '''\n",
        "    G = self.G\n",
        "    walks = []\n",
        "    nodes = list(G.nodes())\n",
        "    #print ('Walk iteration:')\n",
        "    for walk_iter in range(num_walks):\n",
        "        #print (str(walk_iter+1), '/', str(num_walks))\n",
        "        # shuffle\n",
        "        random.shuffle(nodes)\n",
        "        for node in nodes:\n",
        "            # node2vec_walk is a biased random walk\n",
        "            walks.append(self.node2vec_walk(walk_length=walk_length, start_node=node))\n",
        "\n",
        "    return walks"
      ],
      "metadata": {
        "id": "WVzi--MCAGRw"
      },
      "execution_count": 11,
      "outputs": []
    },
    {
      "cell_type": "code",
      "source": [
        "def node2vec_walk(self, walk_length, start_node):\n",
        "    '''\n",
        "    Simulate a random walk starting from start node.\n",
        "    '''\n",
        "    G = self.G\n",
        "    # O(1) alias sampling \n",
        "    alias_nodes = self.alias_nodes\n",
        "    alias_edges = self.alias_edges\n",
        "\n",
        "    walk = [start_node]\n",
        "    \n",
        "    while len(walk) < walk_length:\n",
        "        cur = walk[-1]\n",
        "        cur_nbrs = sorted(G.neighbors(cur))\n",
        "        if len(cur_nbrs) > 0:\n",
        "            # start  \n",
        "            if len(walk) == 1:\n",
        "                # alias_nodes[cur][0] -- alias table\n",
        "                # alias_nodes[cur][1] -- probability table\n",
        "                walk.append(cur_nbrs[alias_draw(alias_nodes[cur][0], alias_nodes[cur][1])])\n",
        "            # len(senq) larger than 1\n",
        "            else:\n",
        "                # prev is node t in paper\n",
        "                prev = walk[-2]\n",
        "                next = cur_nbrs[alias_draw(alias_edges[(prev, cur)][0],\n",
        "                    alias_edges[(prev, cur)][1])]\n",
        "                walk.append(next)\n",
        "        else:\n",
        "            break\n",
        "\n",
        "    return walk"
      ],
      "metadata": {
        "id": "uyDUBDmlAjx0"
      },
      "execution_count": 12,
      "outputs": []
    },
    {
      "cell_type": "code",
      "source": [
        "def learn_embeddings(walks):\n",
        "    '''\n",
        "    Learn embeddings by optimizing the Skipgram objective using SGD.\n",
        "    '''\n",
        "    # walks = [map(str, walk) for walk in walks]\n",
        "    walk_lol = []\n",
        "    for walk in walks:\n",
        "        tmp = []\n",
        "        for node in walk:\n",
        "            tmp.append(str(node))\n",
        "        walk_lol.append(tmp)\n",
        "    # Use Gensim.Word2Vec\n",
        "    model = Word2Vec(walk_lol, vector_size=args.dimensions, window=args.window_size, min_count=0, sg=1, workers=args.workers,\n",
        "                     epochs=args.iter)\n",
        "    # model.save_word2vec_format(args.output)\n",
        "    # save embedding\n",
        "    model.wv.save_word2vec_format(args.output)\n",
        "\n",
        "    return model"
      ],
      "metadata": {
        "id": "5nzkzCKfA3Bc"
      },
      "execution_count": 13,
      "outputs": []
    },
    {
      "cell_type": "code",
      "source": [
        "walks = G.simulate_walks(args.num_walks, args.walk_length)"
      ],
      "metadata": {
        "colab": {
          "base_uri": "https://localhost:8080/"
        },
        "id": "6iiJtYMJYtbC",
        "outputId": "aab11b73-b64f-473f-9626-958fb9bbe077"
      },
      "execution_count": 14,
      "outputs": [
        {
          "output_type": "stream",
          "name": "stdout",
          "text": [
            "Walk iteration:\n",
            "1 / 10\n",
            "2 / 10\n",
            "3 / 10\n",
            "4 / 10\n",
            "5 / 10\n",
            "6 / 10\n",
            "7 / 10\n",
            "8 / 10\n",
            "9 / 10\n",
            "10 / 10\n"
          ]
        }
      ]
    },
    {
      "cell_type": "code",
      "source": [
        "model = learn_embeddings(walks)\n",
        "print ('finished')"
      ],
      "metadata": {
        "colab": {
          "base_uri": "https://localhost:8080/"
        },
        "id": "aC-Nhd3s_yDU",
        "outputId": "74214ebb-817f-414c-f0e8-15070dd9f142"
      },
      "execution_count": 15,
      "outputs": [
        {
          "output_type": "stream",
          "name": "stdout",
          "text": [
            "finished\n"
          ]
        }
      ]
    },
    {
      "cell_type": "code",
      "source": [
        "import matplotlib.pyplot as plt\n",
        "nx.draw(nx_G, with_labels=True)\n",
        "plt.show()"
      ],
      "metadata": {
        "colab": {
          "base_uri": "https://localhost:8080/",
          "height": 319
        },
        "id": "zFLV9JihCwCT",
        "outputId": "190bd6b4-b31f-4652-8a64-c1e758ec57a9"
      },
      "execution_count": 16,
      "outputs": [
        {
          "output_type": "display_data",
          "data": {
            "text/plain": [
              "<Figure size 432x288 with 1 Axes>"
            ],
            "image/png": "[encoded data removed]"
          },
          "metadata": {}
        }
      ]
    },
    {
      "cell_type": "markdown",
      "source": [
        "#Link prediction algorithm\n"
      ],
      "metadata": {
        "id": "QQ7EHJ08JYsa"
      }
    },
    {
      "cell_type": "code",
      "source": [
        "node_embeddings = model.wv\n",
        "G = nx.Graph()\n",
        "words = list(model.wv.key_to_index.keys())\n",
        "for node in words:\n",
        "    G.add_node(node, features=node_embeddings[node])\n",
        "for edge in G.edges():\n",
        "    node1 = str(edge[0])                                             #here after node2vec I am taking only nodes and forming a graph with 0 edges.\n",
        "    node2 = str(edge[1])\n",
        "    if node1 in words or node2 in words:\n",
        "        G.add_edge(node1, node2)"
      ],
      "metadata": {
        "id": "fMtLGwg9HaTy"
      },
      "execution_count": 17,
      "outputs": []
    },
    {
      "cell_type": "code",
      "source": [
        "embedding_dict = {node: model.wv[node] for node in G.nodes()}\n",
        "new_graph = nx.Graph()\n",
        "new_graph.add_nodes_from(embedding_dict.keys())            #here with the nodes in the model that are produced after Node2vec I am building edges with the information of embedding information.\n",
        "for node1 in embedding_dict:\n",
        "    for node2 in embedding_dict:\n",
        "        if node1 != node2:\n",
        "            weight = model.wv.similarity(str(node1), str(node2))\n",
        "            new_graph.add_edge(node1, node2, weight=weight)"
      ],
      "metadata": {
        "id": "leM53-R6Tqfe"
      },
      "execution_count": 18,
      "outputs": []
    },
    {
      "cell_type": "code",
      "source": [
        "print(new_graph.edges()) #A graph of model is formed with the edges being connected based on the embeddings values."
      ],
      "metadata": {
        "colab": {
          "base_uri": "https://localhost:8080/"
        },
        "id": "PwHZFkv7TxzA",
        "outputId": "24ec41a2-a6b0-4aa2-8841-dee2384243f7"
      },
      "execution_count": 19,
      "outputs": [
        {
          "output_type": "stream",
          "name": "stdout",
          "text": [
            "[('34', '1'), ('34', '33'), ('34', '3'), ('34', '2'), ('34', '32'), ('34', '4'), ('34', '24'), ('34', '14'), ('34', '30'), ('34', '9'), ('34', '6'), ('34', '8'), ('34', '7'), ('34', '28'), ('34', '25'), ('34', '26'), ('34', '29'), ('34', '11'), ('34', '31'), ('34', '5'), ('34', '20'), ('34', '13'), ('34', '18'), ('34', '19'), ('34', '22'), ('34', '17'), ('34', '16'), ('34', '23'), ('34', '21'), ('34', '27'), ('34', '10'), ('34', '15'), ('34', '12'), ('1', '33'), ('1', '3'), ('1', '2'), ('1', '32'), ('1', '4'), ('1', '24'), ('1', '14'), ('1', '30'), ('1', '9'), ('1', '6'), ('1', '8'), ('1', '7'), ('1', '28'), ('1', '25'), ('1', '26'), ('1', '29'), ('1', '11'), ('1', '31'), ('1', '5'), ('1', '20'), ('1', '13'), ('1', '18'), ('1', '19'), ('1', '22'), ('1', '17'), ('1', '16'), ('1', '23'), ('1', '21'), ('1', '27'), ('1', '10'), ('1', '15'), ('1', '12'), ('33', '3'), ('33', '2'), ('33', '32'), ('33', '4'), ('33', '24'), ('33', '14'), ('33', '30'), ('33', '9'), ('33', '6'), ('33', '8'), ('33', '7'), ('33', '28'), ('33', '25'), ('33', '26'), ('33', '29'), ('33', '11'), ('33', '31'), ('33', '5'), ('33', '20'), ('33', '13'), ('33', '18'), ('33', '19'), ('33', '22'), ('33', '17'), ('33', '16'), ('33', '23'), ('33', '21'), ('33', '27'), ('33', '10'), ('33', '15'), ('33', '12'), ('3', '2'), ('3', '32'), ('3', '4'), ('3', '24'), ('3', '14'), ('3', '30'), ('3', '9'), ('3', '6'), ('3', '8'), ('3', '7'), ('3', '28'), ('3', '25'), ('3', '26'), ('3', '29'), ('3', '11'), ('3', '31'), ('3', '5'), ('3', '20'), ('3', '13'), ('3', '18'), ('3', '19'), ('3', '22'), ('3', '17'), ('3', '16'), ('3', '23'), ('3', '21'), ('3', '27'), ('3', '10'), ('3', '15'), ('3', '12'), ('2', '32'), ('2', '4'), ('2', '24'), ('2', '14'), ('2', '30'), ('2', '9'), ('2', '6'), ('2', '8'), ('2', '7'), ('2', '28'), ('2', '25'), ('2', '26'), ('2', '29'), ('2', '11'), ('2', '31'), ('2', '5'), ('2', '20'), ('2', '13'), ('2', '18'), ('2', '19'), ('2', '22'), ('2', '17'), ('2', '16'), ('2', '23'), ('2', '21'), ('2', '27'), ('2', '10'), ('2', '15'), ('2', '12'), ('32', '4'), ('32', '24'), ('32', '14'), ('32', '30'), ('32', '9'), ('32', '6'), ('32', '8'), ('32', '7'), ('32', '28'), ('32', '25'), ('32', '26'), ('32', '29'), ('32', '11'), ('32', '31'), ('32', '5'), ('32', '20'), ('32', '13'), ('32', '18'), ('32', '19'), ('32', '22'), ('32', '17'), ('32', '16'), ('32', '23'), ('32', '21'), ('32', '27'), ('32', '10'), ('32', '15'), ('32', '12'), ('4', '24'), ('4', '14'), ('4', '30'), ('4', '9'), ('4', '6'), ('4', '8'), ('4', '7'), ('4', '28'), ('4', '25'), ('4', '26'), ('4', '29'), ('4', '11'), ('4', '31'), ('4', '5'), ('4', '20'), ('4', '13'), ('4', '18'), ('4', '19'), ('4', '22'), ('4', '17'), ('4', '16'), ('4', '23'), ('4', '21'), ('4', '27'), ('4', '10'), ('4', '15'), ('4', '12'), ('24', '14'), ('24', '30'), ('24', '9'), ('24', '6'), ('24', '8'), ('24', '7'), ('24', '28'), ('24', '25'), ('24', '26'), ('24', '29'), ('24', '11'), ('24', '31'), ('24', '5'), ('24', '20'), ('24', '13'), ('24', '18'), ('24', '19'), ('24', '22'), ('24', '17'), ('24', '16'), ('24', '23'), ('24', '21'), ('24', '27'), ('24', '10'), ('24', '15'), ('24', '12'), ('14', '30'), ('14', '9'), ('14', '6'), ('14', '8'), ('14', '7'), ('14', '28'), ('14', '25'), ('14', '26'), ('14', '29'), ('14', '11'), ('14', '31'), ('14', '5'), ('14', '20'), ('14', '13'), ('14', '18'), ('14', '19'), ('14', '22'), ('14', '17'), ('14', '16'), ('14', '23'), ('14', '21'), ('14', '27'), ('14', '10'), ('14', '15'), ('14', '12'), ('30', '9'), ('30', '6'), ('30', '8'), ('30', '7'), ('30', '28'), ('30', '25'), ('30', '26'), ('30', '29'), ('30', '11'), ('30', '31'), ('30', '5'), ('30', '20'), ('30', '13'), ('30', '18'), ('30', '19'), ('30', '22'), ('30', '17'), ('30', '16'), ('30', '23'), ('30', '21'), ('30', '27'), ('30', '10'), ('30', '15'), ('30', '12'), ('9', '6'), ('9', '8'), ('9', '7'), ('9', '28'), ('9', '25'), ('9', '26'), ('9', '29'), ('9', '11'), ('9', '31'), ('9', '5'), ('9', '20'), ('9', '13'), ('9', '18'), ('9', '19'), ('9', '22'), ('9', '17'), ('9', '16'), ('9', '23'), ('9', '21'), ('9', '27'), ('9', '10'), ('9', '15'), ('9', '12'), ('6', '8'), ('6', '7'), ('6', '28'), ('6', '25'), ('6', '26'), ('6', '29'), ('6', '11'), ('6', '31'), ('6', '5'), ('6', '20'), ('6', '13'), ('6', '18'), ('6', '19'), ('6', '22'), ('6', '17'), ('6', '16'), ('6', '23'), ('6', '21'), ('6', '27'), ('6', '10'), ('6', '15'), ('6', '12'), ('8', '7'), ('8', '28'), ('8', '25'), ('8', '26'), ('8', '29'), ('8', '11'), ('8', '31'), ('8', '5'), ('8', '20'), ('8', '13'), ('8', '18'), ('8', '19'), ('8', '22'), ('8', '17'), ('8', '16'), ('8', '23'), ('8', '21'), ('8', '27'), ('8', '10'), ('8', '15'), ('8', '12'), ('7', '28'), ('7', '25'), ('7', '26'), ('7', '29'), ('7', '11'), ('7', '31'), ('7', '5'), ('7', '20'), ('7', '13'), ('7', '18'), ('7', '19'), ('7', '22'), ('7', '17'), ('7', '16'), ('7', '23'), ('7', '21'), ('7', '27'), ('7', '10'), ('7', '15'), ('7', '12'), ('28', '25'), ('28', '26'), ('28', '29'), ('28', '11'), ('28', '31'), ('28', '5'), ('28', '20'), ('28', '13'), ('28', '18'), ('28', '19'), ('28', '22'), ('28', '17'), ('28', '16'), ('28', '23'), ('28', '21'), ('28', '27'), ('28', '10'), ('28', '15'), ('28', '12'), ('25', '26'), ('25', '29'), ('25', '11'), ('25', '31'), ('25', '5'), ('25', '20'), ('25', '13'), ('25', '18'), ('25', '19'), ('25', '22'), ('25', '17'), ('25', '16'), ('25', '23'), ('25', '21'), ('25', '27'), ('25', '10'), ('25', '15'), ('25', '12'), ('26', '29'), ('26', '11'), ('26', '31'), ('26', '5'), ('26', '20'), ('26', '13'), ('26', '18'), ('26', '19'), ('26', '22'), ('26', '17'), ('26', '16'), ('26', '23'), ('26', '21'), ('26', '27'), ('26', '10'), ('26', '15'), ('26', '12'), ('29', '11'), ('29', '31'), ('29', '5'), ('29', '20'), ('29', '13'), ('29', '18'), ('29', '19'), ('29', '22'), ('29', '17'), ('29', '16'), ('29', '23'), ('29', '21'), ('29', '27'), ('29', '10'), ('29', '15'), ('29', '12'), ('11', '31'), ('11', '5'), ('11', '20'), ('11', '13'), ('11', '18'), ('11', '19'), ('11', '22'), ('11', '17'), ('11', '16'), ('11', '23'), ('11', '21'), ('11', '27'), ('11', '10'), ('11', '15'), ('11', '12'), ('31', '5'), ('31', '20'), ('31', '13'), ('31', '18'), ('31', '19'), ('31', '22'), ('31', '17'), ('31', '16'), ('31', '23'), ('31', '21'), ('31', '27'), ('31', '10'), ('31', '15'), ('31', '12'), ('5', '20'), ('5', '13'), ('5', '18'), ('5', '19'), ('5', '22'), ('5', '17'), ('5', '16'), ('5', '23'), ('5', '21'), ('5', '27'), ('5', '10'), ('5', '15'), ('5', '12'), ('20', '13'), ('20', '18'), ('20', '19'), ('20', '22'), ('20', '17'), ('20', '16'), ('20', '23'), ('20', '21'), ('20', '27'), ('20', '10'), ('20', '15'), ('20', '12'), ('13', '18'), ('13', '19'), ('13', '22'), ('13', '17'), ('13', '16'), ('13', '23'), ('13', '21'), ('13', '27'), ('13', '10'), ('13', '15'), ('13', '12'), ('18', '19'), ('18', '22'), ('18', '17'), ('18', '16'), ('18', '23'), ('18', '21'), ('18', '27'), ('18', '10'), ('18', '15'), ('18', '12'), ('19', '22'), ('19', '17'), ('19', '16'), ('19', '23'), ('19', '21'), ('19', '27'), ('19', '10'), ('19', '15'), ('19', '12'), ('22', '17'), ('22', '16'), ('22', '23'), ('22', '21'), ('22', '27'), ('22', '10'), ('22', '15'), ('22', '12'), ('17', '16'), ('17', '23'), ('17', '21'), ('17', '27'), ('17', '10'), ('17', '15'), ('17', '12'), ('16', '23'), ('16', '21'), ('16', '27'), ('16', '10'), ('16', '15'), ('16', '12'), ('23', '21'), ('23', '27'), ('23', '10'), ('23', '15'), ('23', '12'), ('21', '27'), ('21', '10'), ('21', '15'), ('21', '12'), ('27', '10'), ('27', '15'), ('27', '12'), ('10', '15'), ('10', '12'), ('15', '12')]\n"
          ]
        }
      ]
    },
    {
      "cell_type": "code",
      "source": [
        "import networkx as nx\n",
        "from sklearn.metrics import mean_squared_error\n",
        "from sklearn.model_selection import train_test_split\n",
        "from math import sqrt                                      #importing necessary packages."
      ],
      "metadata": {
        "id": "hvcPUtRPOT9g"
      },
      "execution_count": 20,
      "outputs": []
    },
    {
      "cell_type": "code",
      "source": [
        "print(new_graph) #getting info of new graph."
      ],
      "metadata": {
        "colab": {
          "base_uri": "https://localhost:8080/"
        },
        "id": "l8K6vqwMR9hp",
        "outputId": "2dce5572-41a1-4d12-c097-2b13806d86a9"
      },
      "execution_count": 21,
      "outputs": [
        {
          "output_type": "stream",
          "name": "stdout",
          "text": [
            "Graph with 34 nodes and 561 edges\n"
          ]
        }
      ]
    },
    {
      "cell_type": "code",
      "source": [
        "#training_set, test_set = train_test_split(list(G.edges()), test_size=0.2)\n",
        "training_set, test_set = train_test_split(list(new_graph.edges()), test_size=0.33, train_size=0.67)\n",
        "\n",
        "G_train = nx.Graph()\n",
        "G_train.add_edges_from(training_set)                                 #here from model graph I am splitting 33 percent of total edges to be test edges and remaining 67 percent of edges as training set. And from this training sample I built a graph of G_train."
      ],
      "metadata": {
        "id": "apIT5aFdOnNu"
      },
      "execution_count": 22,
      "outputs": []
    },
    {
      "cell_type": "code",
      "source": [
        "pred_edges = list(nx.preferential_attachment(G_train, test_set)) #applied preferential attachment for train graph and new nodes from test set are added preferentially. After applying that algorithm taking total edges as pred edges."
      ],
      "metadata": {
        "id": "X-xz-tXSO-Vl"
      },
      "execution_count": 23,
      "outputs": []
    },
    {
      "cell_type": "code",
      "source": [
        "\n",
        "\n",
        "\n",
        "actual_edges = test_set #test edges are taken as actual edges\n",
        "\n",
        "\n",
        "pred_weights = [w for (u, v, w) in pred_edges]\n",
        "actual_weights = [1 for (u, v) in actual_edges]       \n",
        "\n",
        "\n",
        "rmse = sqrt(mean_squared_error(actual_weights, pred_weights)) # performing rmse on the actual edges weights and pred_edges weights. \n",
        "\n",
        "print(f\"RMSE: {rmse}\")"
      ],
      "metadata": {
        "colab": {
          "base_uri": "https://localhost:8080/"
        },
        "id": "aOCz4TW5Q746",
        "outputId": "b4c5e109-b500-4d0e-ef9a-8932232e1adc"
      },
      "execution_count": 24,
      "outputs": [
        {
          "output_type": "stream",
          "name": "stdout",
          "text": [
            "RMSE: 465.34016347392094\n"
          ]
        }
      ]
    }
  ]
}